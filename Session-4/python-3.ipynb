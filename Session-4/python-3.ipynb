{
 "cells": [
  {
   "cell_type": "code",
   "execution_count": 1,
   "metadata": {},
   "outputs": [
    {
     "name": "stdout",
     "output_type": "stream",
     "text": [
      "0 ali\n",
      "1 veli\n",
      "2 henry\n"
     ]
    }
   ],
   "source": [
    "list = ['ali', 'veli', 'henry']\n",
    "\n",
    "for index, name in enumerate(list):\n",
    "    print(index, name)"
   ]
  },
  {
   "cell_type": "code",
   "execution_count": 2,
   "metadata": {},
   "outputs": [
    {
     "name": "stdout",
     "output_type": "stream",
     "text": [
      "1 ali\n",
      "2 veli\n",
      "3 henry\n"
     ]
    }
   ],
   "source": [
    "list = ['ali', 'veli', 'henry']\n",
    "\n",
    "for index, name in enumerate(list,1):\n",
    "    print(index, name)"
   ]
  },
  {
   "cell_type": "code",
   "execution_count": 9,
   "metadata": {},
   "outputs": [
    {
     "name": "stdout",
     "output_type": "stream",
     "text": [
      "False\n",
      "True\n",
      "False\n",
      "True\n",
      "False\n",
      "False\n"
     ]
    }
   ],
   "source": [
    "a= ['Hilal', False, 1, 2]\n",
    "b = [1,2,3,4,5,0]\n",
    "c = [0, []]\n",
    "\n",
    "print (all(a))\n",
    "print(any(a))\n",
    "\n",
    "print (all(b))\n",
    "print(any(b))\n",
    "\n",
    "print (all(c))\n",
    "print(any(c))"
   ]
  },
  {
   "cell_type": "code",
   "execution_count": 28,
   "metadata": {},
   "outputs": [],
   "source": [
    "def calculater(num1, num2, opr):\n",
    "    if opr == \"+\":\n",
    "        print(num1+num2)\n",
    "    elif opr == '-':\n",
    "        print(num1-num2)\n",
    "    elif opr == '*':\n",
    "        print(num1*num2)\n",
    "    else:\n",
    "        print(num1/num2)\n",
    "\n",
    "   "
   ]
  },
  {
   "cell_type": "code",
   "execution_count": 29,
   "metadata": {},
   "outputs": [],
   "source": [
    "def absolute_value(number):\n",
    "  if number<0:\n",
    "    return(-1 * number)\n",
    "  else:\n",
    "    return(number)"
   ]
  },
  {
   "cell_type": "code",
   "execution_count": 31,
   "metadata": {},
   "outputs": [
    {
     "name": "stdout",
     "output_type": "stream",
     "text": [
      "London in Asya\n"
     ]
    }
   ],
   "source": [
    "def city (capital, continent='Europe'):\n",
    "    print(capital, 'in', continent)\n",
    "\n",
    "city('London')"
   ]
  },
  {
   "cell_type": "code",
   "execution_count": 33,
   "metadata": {},
   "outputs": [
    {
     "name": "stdout",
     "output_type": "stream",
     "text": [
      "London in Asia\n"
     ]
    }
   ],
   "source": [
    "def city (capital, continent='Europe'):\n",
    "    print(capital, 'in', continent)\n",
    "\n",
    "city('London', 'Asia')"
   ]
  },
  {
   "cell_type": "code",
   "execution_count": 34,
   "metadata": {},
   "outputs": [
    {
     "ename": "SyntaxError",
     "evalue": "non-default argument follows default argument (422039782.py, line 1)",
     "output_type": "error",
     "traceback": [
      "\u001b[1;36m  Cell \u001b[1;32mIn[34], line 1\u001b[1;36m\u001b[0m\n\u001b[1;33m    def city ( continent='Europe', capital,):\u001b[0m\n\u001b[1;37m                                   ^\u001b[0m\n\u001b[1;31mSyntaxError\u001b[0m\u001b[1;31m:\u001b[0m non-default argument follows default argument\n"
     ]
    }
   ],
   "source": [
    "def city ( continent='Europe', capital,):\n",
    "    print(capital, 'in', continent)\n",
    "\n",
    "city('London')"
   ]
  },
  {
   "cell_type": "code",
   "execution_count": null,
   "metadata": {},
   "outputs": [],
   "source": [
    "def city (capital, continent='Europe'):\n",
    "    print(capital, 'in', continent)\n",
    "\n",
    "city('London')"
   ]
  },
  {
   "cell_type": "code",
   "execution_count": 37,
   "metadata": {},
   "outputs": [
    {
     "name": "stdout",
     "output_type": "stream",
     "text": [
      "London in \n"
     ]
    }
   ],
   "source": [
    "def city (capital, continent=''):\n",
    "    print(capital, 'in', continent)\n",
    "\n",
    "city('London')"
   ]
  },
  {
   "cell_type": "code",
   "execution_count": 38,
   "metadata": {},
   "outputs": [
    {
     "name": "stdout",
     "output_type": "stream",
     "text": [
      "I want to getorange\n"
     ]
    }
   ],
   "source": [
    "def fruiterer (*args):\n",
    "    print(f'I want to get {args[0]}')\n",
    "fruiterer('orange','banana','lemon')"
   ]
  },
  {
   "cell_type": "code",
   "execution_count": 43,
   "metadata": {},
   "outputs": [
    {
     "name": "stdout",
     "output_type": "stream",
     "text": [
      "('ornage', 'banana', 'lemon')\n",
      "* ornage\n",
      "* banana\n",
      "* lemon\n"
     ]
    }
   ],
   "source": [
    "def fruiterer (*args):\n",
    "    print(args)\n",
    "    for i in args:\n",
    "        print('*',i)\n",
    "fruiterer('ornage', 'banana', 'lemon')"
   ]
  },
  {
   "cell_type": "code",
   "execution_count": 44,
   "metadata": {},
   "outputs": [],
   "source": [
    "def slicer(*args):\n",
    "    even = []\n",
    "    odd = []\n",
    "    for i in args:\n",
    "        if i % 2:\n",
    "            odd.append(i)\n",
    "        else:\n",
    "            even.append(i)\n",
    "    return odd, even"
   ]
  },
  {
   "cell_type": "code",
   "execution_count": 54,
   "metadata": {},
   "outputs": [
    {
     "name": "stdout",
     "output_type": "stream",
     "text": [
      "[1, 3, 5, 7]\n",
      "[2, 4, 6, 8]\n"
     ]
    }
   ],
   "source": [
    "odd, even = slicer(1,2,3,4,5,6,7,8)\n",
    "print(odd)\n",
    "print(even)"
   ]
  },
  {
   "cell_type": "code",
   "execution_count": 2,
   "metadata": {},
   "outputs": [
    {
     "name": "stdout",
     "output_type": "stream",
     "text": [
      "[1, 3, 5]\n"
     ]
    }
   ],
   "source": [
    "c_list = [1, 2, 3, 4, 5]\n",
    "odd = list(filter(lambda x: x % 2, c_list))\n",
    "print(odd)"
   ]
  },
  {
   "cell_type": "code",
   "execution_count": null,
   "metadata": {},
   "outputs": [],
   "source": []
  },
  {
   "cell_type": "code",
   "execution_count": null,
   "metadata": {},
   "outputs": [],
   "source": []
  }
 ],
 "metadata": {
  "kernelspec": {
   "display_name": "Python 3.11.0 64-bit",
   "language": "python",
   "name": "python3"
  },
  "language_info": {
   "codemirror_mode": {
    "name": "ipython",
    "version": 3
   },
   "file_extension": ".py",
   "mimetype": "text/x-python",
   "name": "python",
   "nbconvert_exporter": "python",
   "pygments_lexer": "ipython3",
   "version": "3.11.0 (main, Oct 24 2022, 18:26:48) [MSC v.1933 64 bit (AMD64)]"
  },
  "orig_nbformat": 4,
  "vscode": {
   "interpreter": {
    "hash": "e0067d96ee8d4ce1e613256ade8639a1106952c49f4b07a8a1658059ac67dee2"
   }
  }
 },
 "nbformat": 4,
 "nbformat_minor": 2
}
